{
 "cells": [
  {
   "cell_type": "markdown",
   "id": "b9b3d0f3",
   "metadata": {},
   "source": [
    "### 1. Check Columns \n",
    "base_month : 기준년월<br>\n",
    "\n",
    "leis_sports_cnt : 레저스포츠<br>\n",
    "\n",
    "ref_view_cnt : 휴양 및 관람<br>\n",
    "\n",
    "meet_work_cnt : 회의 및 업무<br>\n",
    "\n",
    "visit_rel_cnt : 친지방문<br>\n",
    "\n",
    "edu_trip_cnt : 교육여행<br>\n",
    "\n",
    "etc_cnt : 기타방문<br>\n",
    "\n",
    "total_visit_cnt : 총 입도객수"
   ]
  },
  {
   "cell_type": "code",
   "execution_count": 40,
   "id": "a01f207b",
   "metadata": {},
   "outputs": [],
   "source": [
    "import pandas as pd\n",
    "import datetime\n",
    "import seaborn as sns"
   ]
  },
  {
   "cell_type": "code",
   "execution_count": 41,
   "id": "0d9f333d",
   "metadata": {},
   "outputs": [],
   "source": [
    "# dataset\n",
    "df = pd.read_csv('./data.csv')"
   ]
  },
  {
   "cell_type": "code",
   "execution_count": 42,
   "id": "84748290",
   "metadata": {},
   "outputs": [
    {
     "name": "stdout",
     "output_type": "stream",
     "text": [
      "<class 'pandas.core.frame.DataFrame'>\n",
      "RangeIndex: 91 entries, 0 to 90\n",
      "Data columns (total 8 columns):\n",
      " #   Column           Non-Null Count  Dtype\n",
      "---  ------           --------------  -----\n",
      " 0   base_month       91 non-null     int64\n",
      " 1   leis_sports_cnt  91 non-null     int64\n",
      " 2   ref_view_cnt     91 non-null     int64\n",
      " 3   meet_work_cnt    91 non-null     int64\n",
      " 4   visit_rel_cnt    91 non-null     int64\n",
      " 5   edu_trip_cnt     91 non-null     int64\n",
      " 6   etc_cnt          91 non-null     int64\n",
      " 7   total_visit_cnt  91 non-null     int64\n",
      "dtypes: int64(8)\n",
      "memory usage: 5.8 KB\n"
     ]
    }
   ],
   "source": [
    "df.info()"
   ]
  },
  {
   "cell_type": "code",
   "execution_count": 43,
   "id": "68c0f45d",
   "metadata": {},
   "outputs": [],
   "source": [
    "# Change base_month type to date\n",
    "df['base_month'] = df['base_month'].astype('str')\n",
    "df['base_month'] = df['base_month'].apply(lambda x: datetime.datetime.strptime(x, \"%Y%m\"))"
   ]
  },
  {
   "cell_type": "code",
   "execution_count": 44,
   "id": "4f09e8ae",
   "metadata": {},
   "outputs": [
    {
     "data": {
      "text/html": [
       "<div>\n",
       "<style scoped>\n",
       "    .dataframe tbody tr th:only-of-type {\n",
       "        vertical-align: middle;\n",
       "    }\n",
       "\n",
       "    .dataframe tbody tr th {\n",
       "        vertical-align: top;\n",
       "    }\n",
       "\n",
       "    .dataframe thead th {\n",
       "        text-align: right;\n",
       "    }\n",
       "</style>\n",
       "<table border=\"1\" class=\"dataframe\">\n",
       "  <thead>\n",
       "    <tr style=\"text-align: right;\">\n",
       "      <th></th>\n",
       "      <th>base_month</th>\n",
       "      <th>leis_sports_cnt</th>\n",
       "      <th>ref_view_cnt</th>\n",
       "      <th>meet_work_cnt</th>\n",
       "      <th>visit_rel_cnt</th>\n",
       "      <th>edu_trip_cnt</th>\n",
       "      <th>etc_cnt</th>\n",
       "      <th>total_visit_cnt</th>\n",
       "    </tr>\n",
       "  </thead>\n",
       "  <tbody>\n",
       "    <tr>\n",
       "      <th>0</th>\n",
       "      <td>2015-01-01</td>\n",
       "      <td>127063</td>\n",
       "      <td>521304</td>\n",
       "      <td>75791</td>\n",
       "      <td>55457</td>\n",
       "      <td>3621</td>\n",
       "      <td>9432</td>\n",
       "      <td>792668</td>\n",
       "    </tr>\n",
       "    <tr>\n",
       "      <th>1</th>\n",
       "      <td>2015-02-01</td>\n",
       "      <td>134718</td>\n",
       "      <td>459032</td>\n",
       "      <td>72552</td>\n",
       "      <td>43058</td>\n",
       "      <td>202</td>\n",
       "      <td>12025</td>\n",
       "      <td>721587</td>\n",
       "    </tr>\n",
       "    <tr>\n",
       "      <th>2</th>\n",
       "      <td>2015-03-01</td>\n",
       "      <td>143528</td>\n",
       "      <td>490004</td>\n",
       "      <td>78294</td>\n",
       "      <td>44581</td>\n",
       "      <td>20466</td>\n",
       "      <td>14841</td>\n",
       "      <td>791714</td>\n",
       "    </tr>\n",
       "    <tr>\n",
       "      <th>3</th>\n",
       "      <td>2015-04-01</td>\n",
       "      <td>146259</td>\n",
       "      <td>623087</td>\n",
       "      <td>83467</td>\n",
       "      <td>27927</td>\n",
       "      <td>44893</td>\n",
       "      <td>13662</td>\n",
       "      <td>939295</td>\n",
       "    </tr>\n",
       "    <tr>\n",
       "      <th>4</th>\n",
       "      <td>2015-05-01</td>\n",
       "      <td>179944</td>\n",
       "      <td>628479</td>\n",
       "      <td>87166</td>\n",
       "      <td>29779</td>\n",
       "      <td>71746</td>\n",
       "      <td>18225</td>\n",
       "      <td>1015339</td>\n",
       "    </tr>\n",
       "  </tbody>\n",
       "</table>\n",
       "</div>"
      ],
      "text/plain": [
       "  base_month  leis_sports_cnt  ref_view_cnt  meet_work_cnt  visit_rel_cnt  \\\n",
       "0 2015-01-01           127063        521304          75791          55457   \n",
       "1 2015-02-01           134718        459032          72552          43058   \n",
       "2 2015-03-01           143528        490004          78294          44581   \n",
       "3 2015-04-01           146259        623087          83467          27927   \n",
       "4 2015-05-01           179944        628479          87166          29779   \n",
       "\n",
       "   edu_trip_cnt  etc_cnt  total_visit_cnt  \n",
       "0          3621     9432           792668  \n",
       "1           202    12025           721587  \n",
       "2         20466    14841           791714  \n",
       "3         44893    13662           939295  \n",
       "4         71746    18225          1015339  "
      ]
     },
     "execution_count": 44,
     "metadata": {},
     "output_type": "execute_result"
    }
   ],
   "source": [
    "df.head()"
   ]
  },
  {
   "cell_type": "code",
   "execution_count": 45,
   "id": "ef5cea72",
   "metadata": {},
   "outputs": [
    {
     "data": {
      "text/html": [
       "<div>\n",
       "<style scoped>\n",
       "    .dataframe tbody tr th:only-of-type {\n",
       "        vertical-align: middle;\n",
       "    }\n",
       "\n",
       "    .dataframe tbody tr th {\n",
       "        vertical-align: top;\n",
       "    }\n",
       "\n",
       "    .dataframe thead th {\n",
       "        text-align: right;\n",
       "    }\n",
       "</style>\n",
       "<table border=\"1\" class=\"dataframe\">\n",
       "  <thead>\n",
       "    <tr style=\"text-align: right;\">\n",
       "      <th></th>\n",
       "      <th>leis_sports_cnt</th>\n",
       "      <th>ref_view_cnt</th>\n",
       "      <th>meet_work_cnt</th>\n",
       "      <th>visit_rel_cnt</th>\n",
       "      <th>edu_trip_cnt</th>\n",
       "      <th>etc_cnt</th>\n",
       "      <th>total_visit_cnt</th>\n",
       "    </tr>\n",
       "  </thead>\n",
       "  <tbody>\n",
       "    <tr>\n",
       "      <th>count</th>\n",
       "      <td>91.000000</td>\n",
       "      <td>9.100000e+01</td>\n",
       "      <td>91.000000</td>\n",
       "      <td>91.000000</td>\n",
       "      <td>91.000000</td>\n",
       "      <td>91.000000</td>\n",
       "      <td>9.100000e+01</td>\n",
       "    </tr>\n",
       "    <tr>\n",
       "      <th>mean</th>\n",
       "      <td>114388.593407</td>\n",
       "      <td>7.475025e+05</td>\n",
       "      <td>78727.417582</td>\n",
       "      <td>59168.835165</td>\n",
       "      <td>14504.703297</td>\n",
       "      <td>13402.505495</td>\n",
       "      <td>1.027695e+06</td>\n",
       "    </tr>\n",
       "    <tr>\n",
       "      <th>std</th>\n",
       "      <td>47783.330174</td>\n",
       "      <td>1.607794e+05</td>\n",
       "      <td>36119.852819</td>\n",
       "      <td>31272.366561</td>\n",
       "      <td>22197.846311</td>\n",
       "      <td>10122.836840</td>\n",
       "      <td>1.802875e+05</td>\n",
       "    </tr>\n",
       "    <tr>\n",
       "      <th>min</th>\n",
       "      <td>27181.000000</td>\n",
       "      <td>2.967420e+05</td>\n",
       "      <td>21955.000000</td>\n",
       "      <td>11593.000000</td>\n",
       "      <td>0.000000</td>\n",
       "      <td>0.000000</td>\n",
       "      <td>4.656720e+05</td>\n",
       "    </tr>\n",
       "    <tr>\n",
       "      <th>25%</th>\n",
       "      <td>73527.500000</td>\n",
       "      <td>6.506765e+05</td>\n",
       "      <td>54037.000000</td>\n",
       "      <td>32358.500000</td>\n",
       "      <td>81.000000</td>\n",
       "      <td>6813.000000</td>\n",
       "      <td>9.443415e+05</td>\n",
       "    </tr>\n",
       "    <tr>\n",
       "      <th>50%</th>\n",
       "      <td>117021.000000</td>\n",
       "      <td>7.582060e+05</td>\n",
       "      <td>71107.000000</td>\n",
       "      <td>55459.000000</td>\n",
       "      <td>3123.000000</td>\n",
       "      <td>10952.000000</td>\n",
       "      <td>1.066510e+06</td>\n",
       "    </tr>\n",
       "    <tr>\n",
       "      <th>75%</th>\n",
       "      <td>147625.000000</td>\n",
       "      <td>8.690640e+05</td>\n",
       "      <td>94278.500000</td>\n",
       "      <td>78080.000000</td>\n",
       "      <td>18179.500000</td>\n",
       "      <td>17081.000000</td>\n",
       "      <td>1.156234e+06</td>\n",
       "    </tr>\n",
       "    <tr>\n",
       "      <th>max</th>\n",
       "      <td>223950.000000</td>\n",
       "      <td>1.040438e+06</td>\n",
       "      <td>203258.000000</td>\n",
       "      <td>173601.000000</td>\n",
       "      <td>83508.000000</td>\n",
       "      <td>65940.000000</td>\n",
       "      <td>1.301963e+06</td>\n",
       "    </tr>\n",
       "  </tbody>\n",
       "</table>\n",
       "</div>"
      ],
      "text/plain": [
       "       leis_sports_cnt  ref_view_cnt  meet_work_cnt  visit_rel_cnt  \\\n",
       "count        91.000000  9.100000e+01      91.000000      91.000000   \n",
       "mean     114388.593407  7.475025e+05   78727.417582   59168.835165   \n",
       "std       47783.330174  1.607794e+05   36119.852819   31272.366561   \n",
       "min       27181.000000  2.967420e+05   21955.000000   11593.000000   \n",
       "25%       73527.500000  6.506765e+05   54037.000000   32358.500000   \n",
       "50%      117021.000000  7.582060e+05   71107.000000   55459.000000   \n",
       "75%      147625.000000  8.690640e+05   94278.500000   78080.000000   \n",
       "max      223950.000000  1.040438e+06  203258.000000  173601.000000   \n",
       "\n",
       "       edu_trip_cnt       etc_cnt  total_visit_cnt  \n",
       "count     91.000000     91.000000     9.100000e+01  \n",
       "mean   14504.703297  13402.505495     1.027695e+06  \n",
       "std    22197.846311  10122.836840     1.802875e+05  \n",
       "min        0.000000      0.000000     4.656720e+05  \n",
       "25%       81.000000   6813.000000     9.443415e+05  \n",
       "50%     3123.000000  10952.000000     1.066510e+06  \n",
       "75%    18179.500000  17081.000000     1.156234e+06  \n",
       "max    83508.000000  65940.000000     1.301963e+06  "
      ]
     },
     "execution_count": 45,
     "metadata": {},
     "output_type": "execute_result"
    }
   ],
   "source": [
    "df.describe()"
   ]
  },
  {
   "cell_type": "code",
   "execution_count": 46,
   "id": "07550ca1",
   "metadata": {},
   "outputs": [
    {
     "name": "stdout",
     "output_type": "stream",
     "text": [
      "columns: base_month\t Percent of NaN value: 0.00%\n",
      "columns: leis_sports_cnt\t Percent of NaN value: 0.00%\n",
      "columns: ref_view_cnt\t Percent of NaN value: 0.00%\n",
      "columns: meet_work_cnt\t Percent of NaN value: 0.00%\n",
      "columns: visit_rel_cnt\t Percent of NaN value: 0.00%\n",
      "columns: edu_trip_cnt\t Percent of NaN value: 0.00%\n",
      "columns:    etc_cnt\t Percent of NaN value: 0.00%\n",
      "columns: total_visit_cnt\t Percent of NaN value: 0.00%\n"
     ]
    }
   ],
   "source": [
    "# Check NAN data\n",
    "for col in df.columns:\n",
    "    msg = 'columns: {:>10}\\t Percent of NaN value: {:.2f}%'.format(col, 100 * (df[col].isnull().sum() / df[col].shape[0]))\n",
    "    print(msg)"
   ]
  },
  {
   "cell_type": "code",
   "execution_count": 52,
   "id": "36041ee7",
   "metadata": {},
   "outputs": [
    {
     "name": "stderr",
     "output_type": "stream",
     "text": [
      "/var/folders/md/9n6kyyln37d2ttfz5nklq8540000gn/T/ipykernel_44214/2831596243.py:2: UserWarning: \n",
      "\n",
      "`distplot` is a deprecated function and will be removed in seaborn v0.14.0.\n",
      "\n",
      "Please adapt your code to use either `displot` (a figure-level function with\n",
      "similar flexibility) or `histplot` (an axes-level function for histograms).\n",
      "\n",
      "For a guide to updating your code to use the new functions, please see\n",
      "https://gist.github.com/mwaskom/de44147ed2974457ad6372750bbe5751\n",
      "\n",
      "  sns.distplot(df['total_visit_cnt'])\n"
     ]
    },
    {
     "data": {
      "text/plain": [
       "<AxesSubplot:xlabel='total_visit_cnt', ylabel='Density'>"
      ]
     },
     "execution_count": 52,
     "metadata": {},
     "output_type": "execute_result"
    },
    {
     "data": {
      "image/png": "[encoded data removed]",
      "text/plain": [
       "<Figure size 640x480 with 1 Axes>"
      ]
     },
     "metadata": {},
     "output_type": "display_data"
    }
   ],
   "source": [
    "#histogram\n",
    "sns.distplot(df['total_visit_cnt'])"
   ]
  },
  {
   "cell_type": "markdown",
   "id": "89b59135",
   "metadata": {},
   "source": [
    "#### histogram insight\n",
    "- 정규분포에서 벗어난다.\n",
    "- 첨도형이다.\n",
    "- 정점을 가진다."
   ]
  },
  {
   "cell_type": "code",
   "execution_count": 53,
   "id": "b16f4cc3",
   "metadata": {},
   "outputs": [
    {
     "name": "stdout",
     "output_type": "stream",
     "text": [
      "Skewness: -1.145994\n",
      "Kurtosis: 1.214166\n"
     ]
    }
   ],
   "source": [
    "#skewness and kurtosis\n",
    "print(\"Skewness: %f\" % df['total_visit_cnt'].skew())\n",
    "print(\"Kurtosis: %f\" % df['total_visit_cnt'].kurt())"
   ]
  },
  {
   "cell_type": "code",
   "execution_count": null,
   "id": "a53868e4",
   "metadata": {},
   "outputs": [],
   "source": []
  }
 ],
 "metadata": {
  "kernelspec": {
   "display_name": "Python 3 (ipykernel)",
   "language": "python",
   "name": "python3"
  },
  "language_info": {
   "codemirror_mode": {
    "name": "ipython",
    "version": 3
   },
   "file_extension": ".py",
   "mimetype": "text/x-python",
   "name": "python",
   "nbconvert_exporter": "python",
   "pygments_lexer": "ipython3",
   "version": "3.8.5"
  }
 },
 "nbformat": 4,
 "nbformat_minor": 5
}
