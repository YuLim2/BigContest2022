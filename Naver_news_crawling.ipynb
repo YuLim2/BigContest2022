{
 "cells": [
  {
   "cell_type": "markdown",
   "id": "d5cdfa30",
   "metadata": {},
   "source": [
    "## 제주도 관광 이슈 크롤링\n",
    "네이버 뉴스에서 해당하는 달의 관광 이슈 크롤링"
   ]
  },
  {
   "cell_type": "code",
   "execution_count": 153,
   "id": "971b8c16",
   "metadata": {},
   "outputs": [],
   "source": [
    "from ssl import SSLError\n",
    "from urllib import parse\n",
    "from urllib.error import URLError\n",
    "from urllib.request import urlopen, Request\n",
    "from bs4 import BeautifulSoup\n",
    "from fake_useragent import UserAgent\n",
    "import time\n",
    "import socket\n",
    "import random\n",
    "import argparse\n",
    "import datetime\n",
    "import pandas as pd\n",
    "import requests\n",
    "import nltk"
   ]
  },
  {
   "cell_type": "code",
   "execution_count": 154,
   "id": "f984fd9d",
   "metadata": {},
   "outputs": [],
   "source": [
    "def crawl(query, save_as, begin, end, sort=0, field=1, delay=0.5, timeout=30, page_limit=50):\n",
    "    '''\n",
    "    :param query: 네이버 '뉴스'란에서 검색할 검색어\n",
    "    :param save_as: 검색 결과 저장 경로\n",
    "    :param begin: '기간' -> 검색 기간 시작\n",
    "    :param end: '기간' -> 검색 기간 끝\n",
    "    :param sort: '유형' -> 0(관련도순) 1(최신순) 2(오래된순)\n",
    "    :param field: '영역' -> 0(전체) 1(제목)\n",
    "    :param delay: (옵션) 검색 리퀘스트 간격 (초)\n",
    "    :param timeout: (옵션) 타임아웃 시 기다릴 시간 (초)\n",
    "    :param page_limit: (옵션) 검색 결과에서 몇 페이지까지 갈 것인지 결정\n",
    "    :return:\n",
    "    '''\n",
    "\n",
    "    # prerequisite\n",
    "    df = pd.DataFrame(columns=['link', 'title', 'date', 'article'])\n",
    "\n",
    "    # index settings\n",
    "    # a single pages includes 10 news, starting from page 1 (index 1~10)\n",
    "    current_index = 1\n",
    "    max_index = 2\n",
    "\n",
    "    while (current_index <= max_index) and (1 + current_index // 10 <= page_limit):\n",
    "        print('\\n' + 'crawling... %s (current_page / max_page %i/%i)' % (query, 1 + current_index // 10, 1 + max_index // 10))\n",
    "        url = make_url(query, sort, field, begin, end, current_index)\n",
    "        print('making url', url)\n",
    "\n",
    "        print('making beautifulsoup object from html')\n",
    "        bsobj = make_bsobj(url, delay, timeout, trial=10)\n",
    "\n",
    "        if bsobj is None:\n",
    "            continue\n",
    "        print('extracting naver news urls from bsobj')\n",
    "        naver_news_urls = make_naver_news_urls(bsobj)\n",
    "        naver_news_title = get_naver_news_title(bsobj)\n",
    "        print(naver_news_urls)\n",
    "        print(naver_news_title)\n",
    "        naver_news_articles = []\n",
    "        for i in range(len(naver_news_urls)):\n",
    "            url = naver_news_urls[i]\n",
    "            print('\\topening:', url)\n",
    "            news_bsobj = BeautifulSoup(url, 'html.parser')\n",
    "            \n",
    "            naver_news_article = get_naver_news_article(url, news_bsobj)\n",
    "            naver_news_articles.append(naver_news_article)\n",
    "\n",
    "#             date, article, title, newspaper = attributes\n",
    "        df = pd.DataFrame([ x for x in zip(naver_news_urls, naver_news_title)])\n",
    "        print(df)\n",
    "        print('saving updated df')\n",
    "#         df = df.sort_values(by=['date'])\n",
    "#         df.to_excel(save_as, engine='xlsxwriter')\n",
    "        current_index += 10\n",
    "    \n",
    "        max_index = get_max_index(bsobj)\n",
    "        if max_index is None:\n",
    "            break\n",
    "    return naver_news_articles"
   ]
  },
  {
   "cell_type": "code",
   "execution_count": 162,
   "id": "592d2a10",
   "metadata": {},
   "outputs": [],
   "source": [
    "def make_naver_news_urls(bsobj):\n",
    "    return [link['href'] for link in bsobj.find_all('a', 'news_tit')]\n",
    "\n",
    "def get_naver_news_title(bsobj):\n",
    "    return [link.text for link in bsobj.find_all('a', 'news_tit')]\n",
    "\n",
    "def get_naver_news_article(url, news_bsobj):\n",
    "    html = urlopen(url).read()\n",
    "    soup = BeautifulSoup(html, features=\"html.parser\")\n",
    "\n",
    "    # kill all script and style elements\n",
    "    for script in soup([\"script\", \"style\"]):\n",
    "        script.extract()    # rip it out\n",
    "\n",
    "    # get text\n",
    "    text = soup.get_text()\n",
    "\n",
    "    # break into lines and remove leading and trailing space on each\n",
    "    lines = (line.strip() for line in text.splitlines())\n",
    "    # break multi-headlines into a line each\n",
    "    chunks = (phrase.strip() for line in lines for phrase in line.split(\"  \"))\n",
    "    # drop blank lines\n",
    "    text = ' '.join(chunk for chunk in chunks if chunk)\n",
    "    return text"
   ]
  },
  {
   "cell_type": "code",
   "execution_count": 163,
   "id": "02ad1886",
   "metadata": {},
   "outputs": [
    {
     "name": "stdout",
     "output_type": "stream",
     "text": [
      "\n",
      "crawling... 제주도관광 (current_page / max_page 1/1)\n",
      "making url https://search.naver.com/search.naver?&where=news&query=%EC%A0%9C%EC%A3%BC%EB%8F%84%EA%B4%80%EA%B4%91&sort=0&field=1&ds=2015.01.01&de=2015.01.05&nso=so:r,p:from20150101to20150105&start=1&refresh_start=0\n",
      "making beautifulsoup object from html\n",
      "extracting naver news urls from bsobj\n",
      "['http://www.wowtv.co.kr/newscenter/news/view.asp?bcode=T30001000&artid=A201501040200', 'http://www.asiatoday.co.kr/view.php?key=20150104010001014']\n",
      "['부영그룹, 관광레저산업 전략사업 설정...제주도 시내면세점 추진', '제주도, 올해 1300만 관광객 유치목표...\"질적성장 도민소득 ↑\"']\n",
      "\topening: http://www.wowtv.co.kr/newscenter/news/view.asp?bcode=T30001000&artid=A201501040200\n"
     ]
    },
    {
     "name": "stderr",
     "output_type": "stream",
     "text": [
      "/Users/jin-yulim/miniforge3/envs/tf25/lib/python3.8/site-packages/bs4/__init__.py:404: MarkupResemblesLocatorWarning: The input looks more like a URL than markup. You may want to use an HTTP client like requests to get the document behind the URL, and feed that document to Beautiful Soup.\n",
      "  warnings.warn(\n"
     ]
    },
    {
     "name": "stdout",
     "output_type": "stream",
     "text": [
      "\topening: http://www.asiatoday.co.kr/view.php?key=20150104010001014\n",
      "                                                   0  \\\n",
      "0  http://www.wowtv.co.kr/newscenter/news/view.as...   \n",
      "1  http://www.asiatoday.co.kr/view.php?key=201501...   \n",
      "\n",
      "                                        1  \n",
      "0     부영그룹, 관광레저산업 전략사업 설정...제주도 시내면세점 추진  \n",
      "1  제주도, 올해 1300만 관광객 유치목표...\"질적성장 도민소득 ↑\"  \n",
      "saving updated df\n"
     ]
    }
   ],
   "source": [
    "df = crawl('제주도관광', 'test.xlsx', '2015.01.01', '2015.01.05')"
   ]
  },
  {
   "cell_type": "code",
   "execution_count": 164,
   "id": "c50e200e",
   "metadata": {},
   "outputs": [
    {
     "data": {
      "text/plain": [
       "['부영그룹 관광레저산업 전략사업 설정제주도 시내면세점 추진 | 한국경제TV 닫기 와우넷 와우파 한경 KVINA 로그아웃 마이페이지 로그인 고객의견 고객센터 열기 뉴스 SITE MAP 검색하기 검색 최신뉴스 증권 경제 부동산 부동산 뉴스 부동산 컨설팅 산업·IT 가상화폐 국제 취업 취업일반 취·창업뉴스 직업의세계 스타트업CEO 많이 본 뉴스 한국경제TV 와우넷 와우파 회원가입 한경구독 지역별채널 편성표 온에어 HOT \\'비속어 논란\\' 한발 물러선 대통령실…김대기 \"경제 어려운데 면목 없어\" 우크라 점령지 4곳 합병조약, \\'만장일치\\' 러시아 하원 통과 영국 부자감세 포기에 파운드 상승…시장 의구심은 여전 아거스, 나이키 재고과잉으로 단기적 부담..\"보류\"로 하향 [포토] 유인나, \\'예쁘다~예뻐~\\' [포토] 엄태구, \\'수줍음에 몸둘 바 몰라\\' [온에어] 류태형 스페셜 [굿모닝 한경글로벌마켓] 미국증시 하루만에 재하락... 애플 급락 - 당신이 잠든 사이 코스피 2,155.49 (15.44 0.71%) 코스닥 672.65 (2.42 0.36%) 버튼 가상화폐 시세 관련기사 보기 정보제공 : 빗썸 닫기 TV 증권 주식상담 경제 기업·CEO 생활경제 특집 전체 프로그램 LIVE 한국경제TV 굿모닝 한경 글로벌마켓 1부 굿모닝 한경 글로벌마켓 2부 오늘장 뭐사지? 코리아마켓 [#내여주] 경주마 (경제주식마무리) 뉴스플러스 매수자들 美 채권거물의 \\'경고\\' 금리인상 멈추면 더 큰 고통이 온다! 경제전쟁 꾼 (금요일) 뉴스 최신뉴스 증권 경제 부동산 산업·IT 가상화폐 국제 취업 많이 본 뉴스 칼럼·연재 출근전 꼭 글로벌 브리핑 글로벌 시황&이슈 GO WEST 증시프리즘 용와대에선 글로벌마켓 A/S 국제경제읽기 글로벌 구루에게 듣는다 슬기로운 금융생활 권영훈의 집중탐구 증권 국내증시 해외증시 특징주 매매신호 인기검색종목 연예·스포츠·여행 연예·스타 스포츠 국내여행 해외여행 HOME 뉴스 최신뉴스 \\u200b 부영그룹, 관광레저산업 전략사업 설정...제주도 시내면세점 추진 핀핀하기 페이스북 페이스북 트위터 트위터 카카오스토리 카카오스토리 블로그 블로그 링크 복사 링크 복사 페이스북 노출 0 입력 2015-01-04 20:38 목록으로 댓글달기 댓글 인쇄하기 인쇄 글자 크게 글자 작게 부영그룹, 관광레저산업 전략사업 설정...제주도 시내면세점 추진 SITE MAP [와우넷 오늘장전략] 수요둔화 애플 -4.9%..더블유씨피 상장-와우넷 오늘장전략 부영그룹이 관광레저산업을 신 전략사업으로 설정하고 우선적으로 제주도에 시내면세점 추진하겠다고 밝혔다.지난 40여 년간 주택건설 사업을 통해 주택시장 안정과 국민 주거여건 개선에 노력해온 부영그룹은 관광레저산업을 전략사업으로 설정하고, 그 핵심 사업축의 하나인 Travel Retail사업(면세점)을 제주도 중문에서 시작하고자, ‘14년 12월 31일 제주지역 시내면세점 특허를 신청했다.부영그룹은 현재 중문관광단지 내에 6개의 특급호텔 및 리조트, 월드타워, 워터파크 등이 포함된 복합리조트 단지를 개발 중에 있으며, 면세점은 ‘15년 3월경 개장 예정인 부영호텔에 서귀포 지역 내 최대 규모인 2개 층, 총 5,102㎡규모로 자리 잡게 된다. 부영면세점은 교통난 심화, 서민상권 악화 등의 부작용 없이 향후 제주도에 본사를 두고 운영되어, 사업수익은 제주도 내 재투자 및 지역사회 환원에 중점적으로 쓰여질 계획이다. 이미 국내외에 6개의 골프장과 무주덕유산리조트 등을 운영하고 있는 부영그룹은 제주도 중문 복합리조트단지 개발을 계기로 국내 최고 관광레저기업으로의 도약을 계획하고 있으며, 단지 중심에 위치하게 될 면세점은 인접한 제주국제컨벤션센터, 개항 예정인 강정 크루즈항과 더불어 중문 관광활성화의 중심이 될 전망이다. 부영그룹은 ‘기업이익의 사회환원’이라는 상생철학에 따라, 그 동안 국내외에 총 740여개 학교시설 무상기증, 소년소녀가장 3만여 세대 생활지원 등 활발한 기부활동을 전개해 왔으며, 제주도에도 서귀포여고 등 5개 학교 기숙사 무상기증 등 다양한 사회공헌활동을 실천해 오고 있으며, 이러한 제주지역 사회공헌은 중문 복합리조트 개발과 더불어 향후 크게 확대될 전망이다. 부영그룹은 복합리조트 개발의 핵심 축이 될 이번 중문 시내면세점 진출을 계기로 상대적으로 침체된 서귀포 관광 활성화에 앞장서는 것은 물론, 적극적인 사회공헌 활동을 통해 지역사회와 함께 상생하는 기업으로 거듭나기를 희망하고 있다.\\x00 부영그룹 관광레저산업 제주도 중문 부영그룹 와우넷 오늘장전략 핀핀하기 페이스북 페이스북 트위터 트위터 카카오스토리 카카오스토리 블로그 블로그 링크 복사 링크 복사 좋아요 00 싫어요 00 후속기사 원해요 00 목록으로 목록 인쇄하기 인쇄 관련뉴스 마이핀 코로나연준반도체러시아 tab area 뉴스 기자 방송 파트너 임종혁대표 박완필대표 하창봉대표 상산권태민 와우캐시 와우넷에서 실제 현금과동일하게 사용되는 사이버머니 캐시충전 서비스 상품 파트너방송 증권·부동산 교육 월정액 서비스 파트너 방송 GOLD 한국경제 TV 실시간 방송 구매하기 이용안내 GOLD PLUS 골드서비스 + VOD 주식강좌 구매하기 이용안내 파트너 방송 파트너방송 + 녹화방송 + 회원전용게시판+SMS증권정보 + 골드플러스 서비스 구매하기 이용안내 고객센터 강연회·행사 더보기 7일간 등록된 일정이 없습니다. 이벤트 7일간 등록된 일정이 없습니다. 공지사항 더보기 [한국경제TV] [고지] 한국경제TV 이용약관 개정 안내 1:1문의하기 시민제보하기 open \\u200b\\u200b 뉴스 목록 보기 arrow 뉴스 최신뉴스 증권 경제 부동산 산업·IT 가상화폐 국제 취업 칼럼·연재 출근전 꼭 글로벌 브리핑 글로벌 시황&이슈 GO WEST 증시프리즘 용와대에선 글로벌마켓 A/S 국제경제읽기 글로벌 구루에게 듣는다 슬기로운 금융생활 권영훈의 집중탐구 증권 국내증시 해외증시 특징주 매매신호 인기검색종목 연예·스포츠·여행 연예·스타 스포츠 국내여행 해외여행 많이 본 뉴스 RSS | 구독 TV 목록 보기 증권 K-스탁 라이브 굿모닝 한경 글로벌마켓 1,2부 [홈] 마켓인사이트 성공투자 오후증시 1-2부 [홈] HOT 정오의 머니머니 증시투데이 출발증시 투데이 한경 코리아마켓 HOT 한경 글로벌마켓 HOT 대박천국 1-3부 [홈] HOT 대박천국 1부 대박천국 2부 대박천국 3부 대박천국 선데이 1-3부 [홈] 대박천국 프리미엄 주식상담 국고처 프라이데이 1-2부 [홈] 국고처 프라임 국민주식고충처리반 1~5부 [홈] 경제 경제전쟁 꾼 시즌2 경주마 HOT 뉴스플러스 HOT 미네르바 클래스 HOT 쓰리고 아이돌 경제학교 생활경제 건강매거진 1-3부 [홈] 버추얼토크 가상자산 치아건강 닥터스 기업·CEO 기업가정신 콘서트 기업가정신을 말하다 혁신성장코리아 특집방송 와우넷 스페셜 [홈, 19人] HOT 추석 이후 투자전략 1-4부 [홈] 전체 프로그램 고객 참여 기사정정삭제 | 의견 이벤트 이용약관 개인정보처리방침 기사배열기본방침 YouTube 서비스 약관 Google 개인정보처리방침 패밀리사이트 패밀리사이트 한국경제TV 와우넷 와우파 한경 KVINA 한경미디어그룹 한국경제신문 한국경제매거진 BOOK 한경아카데미 텐아시아 모바일앱 한국경제TV앱 주식창앱 와우넷앱 와우밴드앱 한경 KVINA앱 회사소개 상시채용 고객센터 광고안내(인터넷·TV) 제휴문의 사이트맵 고객센터 안내 1599-0700 월 ~ 금 08:00 ~ 23:00 일요일 12:30 ~ 22:30 토·공휴일 10:00 ~ 15:00 (주)한국경제티브이 대표이사 조주현 서울특별시 중구 청파로 463(중림동, 한국경제신문사) (우:04505) 사업자등록번호 : 107-81-70183 통신판매업신고번호 : 서울중구 2022-0572호 호스팅제공자 : (주)한국경제티브이 기사배열 책임자 : 유은길 Copyright© 한국경제TV. All Rights Reserved. 인쇄하기 닫기 인쇄하기 인쇄 2015-01-04 20:38 부영그룹, 관광레저산업 전략사업 설정...제주도 시내면세점 추진 부영그룹이 관광레저산업을 신 전략사업으로 설정하고 우선적으로 제주도에 시내면세점 추진하겠다고 밝혔다.지난 40여 년간 주택건설 사업을 통해 주택시장 안정과 국민 주거여건 개선에 노력해온 부영그룹은 관광레저산업을 전략사업으로 설정하고, 그 핵심 사업축의 하나인 Travel Retail사업(면세점)을 제주도 중문에서 시작하고자, ‘14년 12월 31일 제주지역 시내면세점 특허를 신청했다.부영그룹은 현재 중문관광단지 내에 6개의 특급호텔 및 리조트, 월드타워, 워터파크 등이 포함된 복합리조트 단지를 개발 중에 있으며, 면세점은 ‘15년 3월경 개장 예정인 부영호텔에 서귀포 지역 내 최대 규모인 2개 층, 총 5,102㎡규모로 자리 잡게 된다. 부영면세점은 교통난 심화, 서민상권 악화 등의 부작용 없이 향후 제주도에 본사를 두고 운영되어, 사업수익은 제주도 내 재투자 및 지역사회 환원에 중점적으로 쓰여질 계획이다. 이미 국내외에 6개의 골프장과 무주덕유산리조트 등을 운영하고 있는 부영그룹은 제주도 중문 복합리조트단지 개발을 계기로 국내 최고 관광레저기업으로의 도약을 계획하고 있으며, 단지 중심에 위치하게 될 면세점은 인접한 제주국제컨벤션센터, 개항 예정인 강정 크루즈항과 더불어 중문 관광활성화의 중심이 될 전망이다. 부영그룹은 ‘기업이익의 사회환원’이라는 상생철학에 따라, 그 동안 국내외에 총 740여개 학교시설 무상기증, 소년소녀가장 3만여 세대 생활지원 등 활발한 기부활동을 전개해 왔으며, 제주도에도 서귀포여고 등 5개 학교 기숙사 무상기증 등 다양한 사회공헌활동을 실천해 오고 있으며, 이러한 제주지역 사회공헌은 중문 복합리조트 개발과 더불어 향후 크게 확대될 전망이다. 부영그룹은 복합리조트 개발의 핵심 축이 될 이번 중문 시내면세점 진출을 계기로 상대적으로 침체된 서귀포 관광 활성화에 앞장서는 것은 물론, 적극적인 사회공헌 활동을 통해 지역사회와 함께 상생하는 기업으로 거듭나기를 희망하고 있다.\\x00 한국경제TV',\n",
       " \"제주도, 올해 1300만 관광객 유치목표...“질적성장 도민소득 ↑” - 아시아투데이 아시아투데이 서울\\xa0다른도시22.8℃ 춘천강릉서울인천충주대전대구전주울산광주부산제주 뉴델리 32.6℃ 도쿄 22℃ 베이징 13.2℃ 자카르타 28℃ 네이버뉴스스탠드 네이버 포스트 유투브 페이스북 트위터 최신 오피니언 사설 칼럼·외고 기자의 눈 피플 정치 정치일반 대통령실 국회·정당 북한 외교 국방 정부 사회 사회일반 사건·사고 법원·검찰 교육·행정 노동·복지·환경 보건·의약 경제 경제일반 정책 금융·증권 산업 IT·과학 부동산 유통 중기·벤처 아투시티뉴스 종합 경기·인천 세종·충청 영남 호남 강원 제주 국제 세계일반 아시아·호주 북미 중남미 유럽 중동·아프리카 문화·스포츠 전체 방송 가요 영화 문화 종교 스포츠 여행 포토 전체 포토 비주얼뉴스 지면보기 제보24시 자문위원단 독자권익위원회 아투TV 대학동문골프최강전 글로벌 리더스 클럽 English中文 제주도, 올해 1300만 관광객 유치목표...“질적성장 도민소득 ↑” 논문 표절해도 '솜방망이' 처벌한 서울대…3년간 중징계 '0건' 고의로 교통사고…경찰, 보험금 6억6000만원 챙긴 89명 검거 2022년 10월 3일(월) 자문위원단 독자권익위원회 제보24시 전체메뉴 사회 사회일반 사건·사고 법원·검찰 교육·행정 노동·복지·환경 보건·의약 검색버튼 제주도, 올해 1300만 관광객 유치목표...“질적성장 도민소득 ↑” 기사승인 2015. 01. 04. 09:54 가 (더 작게) 가 (작게) 가 (기본) 가 (크게) 가 (더 크게) 원도심 문화재생, 제주문화 세계화, 해외관광시장 다변화, 제주어 보전 육성 등 추진 제주도청0제주도청 전경.제주 고동환 기자 = 제주특별자치도는 새해 문화관광스포츠에 대한 정책방향을 원도심 문화재생, 문화예술의 섬 제주문화 브랜드 세계화, 경제를 키우는 제주형 스포츠대회 육성, 해외관광시장 다변화 등 질적 성장을 유도해 도민소득을 높이는 방향으로 추진한다고 4일 밝혔다.이에 맞춰 도는 먼저 문화분야에는 2015년도 원도심 문화재생 중점추진 과제로 원도심 지역 문화자산과 연계한 문화복합공간으로 조성하기 위해 문화예술의 거리를 조성해 원도심 활성화에 주력한다. 50여년 전통의 탐라문화제를 제주대표축제로 육성해 UCLG(세계지방정부연합)문화분과위원회 제주개최 등 제주문화 브랜드 세계화를 추진한다. 특히 제주의 역사, 학교 중심 제주어 살리기 특성화 교육 등 제주어 보전 육성사업 추진 및 제주학연구 등을 통해 제주의 정체성을 확립하여 나갈 계획이다 관광분야 핵심정책으로는 2015년 관광객 유치목표를 1300만명으로 설정하고 제주를 아시아 최고의 장기체류형 휴양관광지로 조성해 나갈 계획이다.해외시장 다변화를 통해 제주관광의 질적 성장으로 도민소득을 높여 나간다.이에 따라 도민이익 창출을 위한 중문관광단지 매입과 제주관광공사 시내면세점 입점도 추진해 나간다.스포츠산업 분야 중심과제로는 제주의 경제를 키우는 스포츠산업으로 레저, New스포츠, 실버 스포츠 등 제주형 스포츠대회 육성과 골프산업 활성화를 중점 추진해 나갈 계획이다.지난해 5월 구성한 골프관광객 유치 T/F팀 운영을 강화해 올해 25개 국내외 고부가가치 골프대회의 제주 개최를 지원해 나갈 계획이다.또한 제주지역내 사회적 약자인 장애인들의 체육시설 부족과 시설이용 불편 등을 개선하기 위한 스포츠기반 시설을 확충해 나갈 계획이다. 이에 따라 제주 장애인들의 숙원사업인 제주장애인스포츠센터 건립사업을 내년 3월 준공을 목표로 차질 없이 진행해 나갈 계획이다. 고동환 기자 mykdh749@naver.com ⓒ아시아투데이, 무단전재 및 재배포 금지 댓글 라이브리 댓글 작성을 위해 JavaScript를 활성화 해주세요 많이 본 뉴스 연예가 핫 뉴스 1 [단독] ‘힌남노’가 포스코 강타할 때…최정우 회장, 전.. 2 연말인사 앞둔 롯데, 신동빈 회장 ‘주가 관리’ 지시 후.. 3 ‘개천절’ 서울 곳곳 집회…광화문 일대만 한때 3만여명 4 굿바이~ 보령... 충남체육대회 4일간 여정 막 내려 5 현대차그룹, 러시아 ‘사업 중단’ 반 년 넘겨…벌써 순이.. 6 ‘3高’ 위기 몰려온다… 사장단 회의 소집한 대기업 ‘비.. 1 끝없는 기록 행진…임영웅, 정규 1집 타이틀곡 ‘다시 만.. 2 YG 측, 블랙핑크 제니·방탄소년단 뷔 사생활 사진 노출.. 3 훌쩍 키 큰 정동원, 프로미스나인 박지원과 풋풋한 케미.. 4 ‘트바로티’ 김호중, 전국투어 ‘아리스트라’ 서울 공연.. 5 개천절 KIA-LG, kt-NC전 우천 취소, 향후 일정.. 6 최지우·이유미·최민호 등 영화 ‘뉴 노멀’, 해외 유명.. 오늘의 주요뉴스 文 “감사원 서면조사 무례” 與 “사법·감사 성역 없다” 외교참사 vs 文 서면조사…여야 국감 ‘2R’ 대결 돌입 ‘힌남노’ 포스코 덮쳤는데…최정우 전시회 관람 ‘구설’ 당정 “심야 택시 탄력호출료 확대…곧 정부조직 개편” 北 잇단 미사일 도발에…軍, 괴물미사일 ‘현무’로 맞불 논문 베껴도 ‘솜방망이’ 처벌…서울대 3년간 중징계 ‘0’ ‘20년 파트너’ 이재용·손정의, ARM 협력 시나리오는 與, 김건희 논문 지적 민형배에 “자살골 이어 헛발질” ‘서해 피격사건’ 유족, 노영민·이인영 추가고발 예고 한 총리 “국정과제 추진 위한 정부 조직개편안 논의” 글로벌리더스클럽 회사소개 | 광고안내 | 행사안내 | 구독신청 | 제보24시 | 고충처리 | 회원약관 | 개인정보취급방침 | 청소년보호정책 | 저작권규약 | 인재채용 등록번호 : 서울 아00160 | 등록일 : 2006년 1월 18일 | 제호 : 아시아투데이 | 회장 : 송인준 | 발행인ㆍ편집인 : 우종순 서울시 영등포구 의사당대로1길 34 인영빌딩 | 발행일자 : 2005년 11월 11일 | 대표전화 : 02) 769-5000 | 청소년보호책임자 : 성희제 아시아투데이는 인터넷신문위원회 윤리강령을 준수합니다. Copyright by ASIATODAY Co., Ltd. All Rights Reserved\"]"
      ]
     },
     "execution_count": 164,
     "metadata": {},
     "output_type": "execute_result"
    }
   ],
   "source": [
    "df"
   ]
  },
  {
   "cell_type": "code",
   "execution_count": 85,
   "id": "f98e7aa6",
   "metadata": {},
   "outputs": [],
   "source": [
    "def make_url(query, sort, field, begin, end, page):\n",
    "    url = \"https://search.naver.com/search.naver?&where=news&query=\" + parse.quote(query)\n",
    "    url += \"&sort=%i\" % sort\n",
    "    url += \"&field=%i\" % field\n",
    "    url += \"&ds=\" + begin + \"&de=\" + end\n",
    "    url += \"&nso=so:r,p:\"\n",
    "    url += \"from\" + begin.replace(\".\", \"\") + \"to\" + end.replace(\".\", \"\")\n",
    "    url += \"&start=\" + str(page)\n",
    "    url += \"&refresh_start=0\"\n",
    "    return url"
   ]
  },
  {
   "cell_type": "code",
   "execution_count": 86,
   "id": "260ef478",
   "metadata": {},
   "outputs": [],
   "source": [
    "def make_bsobj(url, delay=0.5, timeout=30, trial=10):\n",
    "    ua = UserAgent(verify_ssl=False)\n",
    "    count = 0\n",
    "\n",
    "    while count < trial:\n",
    "        try:\n",
    "            time.sleep(delay + random.random())\n",
    "            html = urlopen(Request(url=url, headers={'User-Agent': ua.random}), timeout=timeout)\n",
    "            bsobj = BeautifulSoup(html, 'html.parser')\n",
    "            return bsobj\n",
    "        except (URLError, SSLError, socket.timeout) as e:\n",
    "            print('(Error)', e)\n",
    "            print('reloading...')\n",
    "            count += 1\n",
    "            time.sleep(timeout)\n",
    "    return None"
   ]
  },
  {
   "cell_type": "code",
   "execution_count": 88,
   "id": "478ea923",
   "metadata": {},
   "outputs": [],
   "source": [
    "def get_attributes(bsobj):\n",
    "    def _get_title(bsobj):\n",
    "        ls = []\n",
    "        title = bsobj.find('a', 'news_tit').text\n",
    "        ls.append(title)\n",
    "        print(ls)\n",
    "        return title\n",
    "\n",
    "    def _get_article(bsobj):\n",
    "        article = bsobj.select('#articleBodyContents')[0].text\n",
    "        article = article.encode('utf-8', 'replace').decode()\n",
    "        return article\n",
    "\n",
    "    def _get_date(news_bsobj):\n",
    "        splits = bsobj.select('.t11')[0].text.split(' ')\n",
    "        date = splits[0] + ' ' + splits[2]\n",
    "        date = datetime.datetime.strptime(date, '%Y.%m.%d. %H:%M')\n",
    "        date += datetime.timedelta(hours=12 * int(splits[1] == '오후'))\n",
    "        print(date)\n",
    "        return date\n",
    "\n",
    "    def _get_newspaper(bsobj):\n",
    "        newspaper = bsobj.find(\"div\", class_=\"press_logo\").find('img', alt=True).get('alt')\n",
    "        return newspaper\n",
    "\n",
    "    try:\n",
    "        return _get_date(bsobj), _get_article(bsobj), _get_title(bsobj), _get_newspaper(bsobj)\n",
    "    except IndexError:\n",
    "        print('(Error) crawling failed (maybe url is redirected to somewhere else)')\n",
    "        return None"
   ]
  },
  {
   "cell_type": "code",
   "execution_count": 89,
   "id": "4a70bc0a",
   "metadata": {},
   "outputs": [],
   "source": [
    "def get_max_index(bsobj):\n",
    "    paging = bsobj.find(\"div\", {\"class\": \"sc_page_inner\"})\n",
    "    if not paging:\n",
    "        print('(WARNING!) no results found')\n",
    "        return None\n",
    "\n",
    "    atags = paging.find_all('a')\n",
    "    if not atags:\n",
    "        print('(WARNING!) there is only one page')\n",
    "        return None\n",
    "\n",
    "    return max([int(atag[\"href\"].split('start=')[1]) for atag in atags])"
   ]
  },
  {
   "cell_type": "code",
   "execution_count": 90,
   "id": "a0ba3b5c",
   "metadata": {},
   "outputs": [],
   "source": [
    "def get_arguments():\n",
    "    # Argument configuration\n",
    "    parser = argparse.ArgumentParser()\n",
    "    parser.add_argument('--query', type=str, required=True, help='query to search on NAVER')\n",
    "    parser.add_argument('--begin', type=str, required=True, help='crawling begin point (%%Y.%%m.%%d format)')\n",
    "    parser.add_argument('--end', type=str, required=True, help='crawling end point (%%Y.%%m.%%d format)')\n",
    "    parser.add_argument('--save_as', type=str, default='test2.xlsx', help='excel save path')\n",
    "    parser.add_argument('--sort', type=int, default=0, help='search result sorting: 0(relevant), 1(newest), 2(oldest)')\n",
    "    parser.add_argument('--field', type=int, default=1, help='search field: 0(all), 1(title)')\n",
    "    return parser.parse_args()"
   ]
  },
  {
   "cell_type": "code",
   "execution_count": 94,
   "id": "ac1da847",
   "metadata": {},
   "outputs": [
    {
     "name": "stdout",
     "output_type": "stream",
     "text": [
      "\n",
      "crawling... 제주도관광 (current_page / max_page 1/1)\n",
      "making url https://search.naver.com/search.naver?&where=news&query=%EC%A0%9C%EC%A3%BC%EB%8F%84%EA%B4%80%EA%B4%91&sort=0&field=1&ds=2015.01.01&de=2015.01.05&nso=so:r,p:from20150101to20150105&start=1&refresh_start=0\n",
      "making beautifulsoup object from html\n",
      "extracting naver news urls from bsobj\n",
      "['http://www.wowtv.co.kr/newscenter/news/view.asp?bcode=T30001000&artid=A201501040200', 'http://www.asiatoday.co.kr/view.php?key=20150104010001014']\n",
      "['부영그룹, 관광레저산업 전략사업 설정...제주도 시내면세점 추진', '제주도, 올해 1300만 관광객 유치목표...\"질적성장 도민소득 ↑\"']\n",
      "\topening: http://www.wowtv.co.kr/newscenter/news/view.asp?bcode=T30001000&artid=A201501040200\n",
      "\topening: http://www.asiatoday.co.kr/view.php?key=20150104010001014\n",
      "                                                   0  \\\n",
      "0  http://www.wowtv.co.kr/newscenter/news/view.as...   \n",
      "1  http://www.asiatoday.co.kr/view.php?key=201501...   \n",
      "\n",
      "                                        1  \n",
      "0     부영그룹, 관광레저산업 전략사업 설정...제주도 시내면세점 추진  \n",
      "1  제주도, 올해 1300만 관광객 유치목표...\"질적성장 도민소득 ↑\"  \n",
      "saving updated df\n"
     ]
    },
    {
     "name": "stderr",
     "output_type": "stream",
     "text": [
      "/Users/jin-yulim/miniforge3/envs/tf25/lib/python3.8/site-packages/bs4/__init__.py:404: MarkupResemblesLocatorWarning: The input looks more like a URL than markup. You may want to use an HTTP client like requests to get the document behind the URL, and feed that document to Beautiful Soup.\n",
      "  warnings.warn(\n"
     ]
    }
   ],
   "source": [
    "df = crawl('제주도관광', 'test.xlsx', '2015.01.01', '2015.01.05')"
   ]
  },
  {
   "cell_type": "code",
   "execution_count": 95,
   "id": "a9ba2f3e",
   "metadata": {},
   "outputs": [
    {
     "data": {
      "text/plain": [
       "['http://www.wowtv.co.kr/newscenter/news/view.asp?bcode=T30001000&artid=A201501040200',\n",
       " 'http://www.asiatoday.co.kr/view.php?key=20150104010001014']"
      ]
     },
     "execution_count": 95,
     "metadata": {},
     "output_type": "execute_result"
    }
   ],
   "source": [
    "df"
   ]
  },
  {
   "cell_type": "code",
   "execution_count": null,
   "id": "c07cb2d0",
   "metadata": {},
   "outputs": [],
   "source": []
  }
 ],
 "metadata": {
  "kernelspec": {
   "display_name": "Python 3 (ipykernel)",
   "language": "python",
   "name": "python3"
  },
  "language_info": {
   "codemirror_mode": {
    "name": "ipython",
    "version": 3
   },
   "file_extension": ".py",
   "mimetype": "text/x-python",
   "name": "python",
   "nbconvert_exporter": "python",
   "pygments_lexer": "ipython3",
   "version": "3.8.5"
  }
 },
 "nbformat": 4,
 "nbformat_minor": 5
}
