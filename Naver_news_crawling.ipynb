{
 "cells": [
  {
   "cell_type": "markdown",
   "id": "d5cdfa30",
   "metadata": {
    "pycharm": {
     "name": "#%% md\n"
    }
   },
   "source": [
    "## 제주도 관광 이슈 크롤링\n",
    "네이버 뉴스에서 해당하는 달의 관광 이슈 크롤링"
   ]
  },
  {
   "cell_type": "code",
   "execution_count": 1,
   "id": "971b8c16",
   "metadata": {
    "pycharm": {
     "name": "#%%\n"
    }
   },
   "outputs": [],
   "source": [
    "from ssl import SSLError\n",
    "from urllib import parse\n",
    "from urllib.error import URLError\n",
    "from urllib.request import urlopen, Request\n",
    "from bs4 import BeautifulSoup\n",
    "from fake_useragent import UserAgent\n",
    "import time\n",
    "import socket\n",
    "import random\n",
    "import argparse\n",
    "import datetime\n",
    "import pandas as pd\n",
    "import requests\n",
    "import nltk\n",
    "import warnings\n",
    "import random\n",
    "warnings.filterwarnings(\"ignore\", category=UserWarning, module='bs4')"
   ]
  },
  {
   "cell_type": "code",
   "execution_count": 2,
   "id": "23d2897e",
   "metadata": {
    "pycharm": {
     "name": "#%%\n"
    }
   },
   "outputs": [],
   "source": [
    "def crawl(query, save_as, begin, end, sort=0, field=1, delay=0.5, timeout=30, page_limit=50):\n",
    "    '''\n",
    "    :param query: 네이버 '뉴스'란에서 검색할 검색어\n",
    "    :param save_as: 검색 결과 저장 경로\n",
    "    :param begin: '기간' -> 검색 기간 시작\n",
    "    :param end: '기간' -> 검색 기간 끝\n",
    "    :param sort: '유형' -> 0(관련도순) 1(최신순) 2(오래된순)\n",
    "    :param field: '영역' -> 0(전체) 1(제목)\n",
    "    :param delay: (옵션) 검색 리퀘스트 간격 (초)\n",
    "    :param timeout: (옵션) 타임아웃 시 기다릴 시간 (초)\n",
    "    :param page_limit: (옵션) 검색 결과에서 몇 페이지까지 갈 것인지 결정\n",
    "    :return:\n",
    "    '''\n",
    "\n",
    "    # prerequisite\n",
    "    df = pd.DataFrame(columns=['naver_news_title', 'naver_news_articles'])\n",
    "\n",
    "    # index settings\n",
    "    # a single pages includes 10 news, starting from page 1 (index 1~10)\n",
    "    current_index = 1\n",
    "    max_index = 2\n",
    "\n",
    "    while 1 + current_index // 10 <= page_limit:\n",
    "        url = make_url(query, sort, field, begin, end, current_index)\n",
    "        bsobj = make_bsobj(url, delay, timeout, trial=10)\n",
    "        print('making url', url)\n",
    "\n",
    "        if bsobj is None:\n",
    "            continue\n",
    "        naver_news_urls = make_naver_news_urls(bsobj)\n",
    "        naver_news_title = get_naver_news_title(bsobj)\n",
    "        naver_news_articles = []\n",
    "        for i in range(len(naver_news_urls)):\n",
    "            url = naver_news_urls[i]\n",
    "            news_bsobj = BeautifulSoup(url, 'lxml')\n",
    "            \n",
    "            naver_news_article = get_naver_news_article(url, news_bsobj)\n",
    "            naver_news_articles.append(naver_news_article)\n",
    "\n",
    "#             date, article, title, newspaper = attributes\n",
    "        df_s = pd.DataFrame([ x for x in zip(naver_news_title, naver_news_articles)])\n",
    "        df_s.columns = ['naver_news_title', 'naver_news_articles']\n",
    "        df = pd.concat([df, df_s], ignore_index=True)\n",
    "#         print(df)\n",
    "#         df = df.sort_values(by=['date'])\n",
    "        df.to_excel(save_as, engine='xlsxwriter')\n",
    "\n",
    "#         print('updating current_news_index info')\n",
    "        current_index += 10\n",
    "        max_index = get_max_index(bsobj)\n",
    "#         print(max_index)\n",
    "        if max_index is None:\n",
    "            print('out of max index')\n",
    "            break\n",
    "    print(f'{begin}_complete!')"
   ]
  },
  {
   "cell_type": "code",
   "execution_count": 3,
   "id": "938e8942",
   "metadata": {
    "pycharm": {
     "name": "#%%\n"
    }
   },
   "outputs": [],
   "source": [
    "def get_max_index(bsobj):\n",
    "    paging = bsobj.find(\"a\", {\"class\": \"btn_next\"})\n",
    "    val = 'onclick' in str(paging)\n",
    "    atags = bsobj.find_all('a', 'news_tit')\n",
    "    if not val:\n",
    "        print('(WARNING!) no results found')\n",
    "        return None\n",
    "    if not atags:\n",
    "        print('(WARNING!) there is only one page')\n",
    "        return None\n",
    "    \n",
    "    return len(atags)"
   ]
  },
  {
   "cell_type": "code",
   "execution_count": 4,
   "id": "443eba51",
   "metadata": {
    "pycharm": {
     "name": "#%%\n"
    }
   },
   "outputs": [],
   "source": [
    "def make_naver_news_urls(bsobj):\n",
    "    return [link['href'] for link in bsobj.find_all('a', 'news_tit')]\n",
    "\n",
    "def get_naver_news_title(bsobj):\n",
    "    return [link.text for link in bsobj.find_all('a', 'news_tit')]\n",
    "\n",
    "def get_naver_news_article(url, news_bsobj):\n",
    "    try:\n",
    "        html = urlopen(url).read()\n",
    "        soup = BeautifulSoup(html, \"lxml\")\n",
    "        for script in soup([\"script\", \"style\"]):\n",
    "            script.extract()\n",
    "        text = soup.get_text()\n",
    "        lines = (line.strip() for line in text.splitlines())\n",
    "        chunks = (phrase.strip() for line in lines for phrase in line.split(\"  \"))\n",
    "        text = ' '.join(chunk for chunk in chunks if chunk)\n",
    "        return text\n",
    "    except:\n",
    "        return None"
   ]
  },
  {
   "cell_type": "code",
   "execution_count": 5,
   "id": "469246d0",
   "metadata": {
    "pycharm": {
     "name": "#%%\n"
    }
   },
   "outputs": [],
   "source": [
    "def make_url(query, sort, field, begin, end, page):\n",
    "    url = \"https://search.naver.com/search.naver?&where=news&query=\" + parse.quote(query)\n",
    "    url += \"&sort=%i\" % sort\n",
    "    url += \"&field=%i\" % field\n",
    "    url += \"&ds=\" + begin + \"&de=\" + end\n",
    "    url += \"&nso=so:r,p:\"\n",
    "    url += \"from\" + begin.replace(\".\", \"\") + \"to\" + end.replace(\".\", \"\")\n",
    "    url += \"&start=\" + str(page)\n",
    "    return url"
   ]
  },
  {
   "cell_type": "code",
   "execution_count": 6,
   "id": "6b8a287e",
   "metadata": {
    "pycharm": {
     "name": "#%%\n"
    }
   },
   "outputs": [],
   "source": [
    "def make_bsobj(url, delay=0.5, timeout=30, trial=10):\n",
    "    ua = UserAgent(verify_ssl=False)\n",
    "    count = 0\n",
    "\n",
    "    while count < trial:\n",
    "        try:\n",
    "            time.sleep(delay + random.random())\n",
    "            html = urlopen(Request(url=url, headers={'User-Agent': ua.random}), timeout=timeout)\n",
    "            bsobj = BeautifulSoup(html, 'lxml')\n",
    "            return bsobj\n",
    "        except (URLError, SSLError, socket.timeout) as e:\n",
    "            print('(Error)', e)\n",
    "            print('reloading...')\n",
    "            count += 1\n",
    "            time.sleep(timeout)\n",
    "    return None"
   ]
  },
  {
   "cell_type": "code",
   "execution_count": 7,
   "id": "0f8aecdf",
   "metadata": {
    "pycharm": {
     "name": "#%%\n"
    }
   },
   "outputs": [
    {
     "name": "stdout",
     "output_type": "stream",
     "text": [
      "(WARNING!) no results found\n",
      "1\n"
     ]
    }
   ],
   "source": [
    "url = 'https://search.naver.com/search.naver?where=news&sm=tab_pge&query=%EC%A0%9C%EC%A3%BC%EB%8F%84%EA%B4%80%EA%B4%91&sort=0&photo=0&field=1&pd=3&ds=2015.01.01&de=2015.01.30&cluster_rank=13&mynews=0&office_type=0&office_section_code=0&news_office_checked=&nso=so:r,p:from20150101to20150130,a:t&start=11'\n",
    "delay=0.5\n",
    "timeout=30\n",
    "bsobj = make_bsobj(url, delay, timeout, trial=10)\n",
    "max_index = get_max_index(bsobj)\n",
    "if max_index is None:\n",
    "    print(1)"
   ]
  },
  {
   "cell_type": "code",
   "execution_count": 8,
   "id": "87587c57",
   "metadata": {
    "pycharm": {
     "name": "#%%\n"
    }
   },
   "outputs": [],
   "source": [
    "def get_arguments():\n",
    "    # Argument configuration\n",
    "    parser = argparse.ArgumentParser()\n",
    "    parser.add_argument('--query', type=str, required=True, help='query to search on NAVER')\n",
    "    parser.add_argument('--begin', type=str, required=True, help='crawling begin point (%%Y.%%m.%%d format)')\n",
    "    parser.add_argument('--end', type=str, required=True, help='crawling end point (%%Y.%%m.%%d format)')\n",
    "    parser.add_argument('--sort', type=int, default=0, help='search result sorting: 0(relevant), 1(newest), 2(oldest)')\n",
    "    parser.add_argument('--field', type=int, default=1, help='search field: 0(all), 1(title)')\n",
    "    return parser.parse_args()"
   ]
  },
  {
   "cell_type": "code",
   "execution_count": 9,
   "id": "94f31104",
   "metadata": {
    "pycharm": {
     "name": "#%%\n"
    }
   },
   "outputs": [],
   "source": [
    "def ran_num(n):\n",
    "    ls = []\n",
    "    num = random.randint(1, n)\n",
    "    while n in ls :\n",
    "        num = random.randint(1, n)\n",
    "        ls.append(num)\n",
    "    return num"
   ]
  },
  {
   "cell_type": "code",
   "execution_count": 15,
   "id": "ab3ba7a4",
   "metadata": {
    "pycharm": {
     "name": "#%%\n"
    }
   },
   "outputs": [],
   "source": [
    "def saving_data(start_year, end_year):\n",
    "    for i in range(start_year, end_year + 1):\n",
    "        for j in range(1, 13):\n",
    "            if j < 10:\n",
    "                j = '0' + str(j)\n",
    "            df = crawl('제주도관광', f'./news_data/{i}_{j}.xlsx', f'{i}.{j}.01', f'{i}.{j}.30')"
   ]
  },
  {
   "cell_type": "code",
   "execution_count": 16,
   "id": "573e2c75",
   "metadata": {
    "pycharm": {
     "name": "#%%\n"
    },
    "scrolled": false
   },
   "outputs": [
    {
     "name": "stdout",
     "output_type": "stream",
     "text": [
      "making url https://search.naver.com/search.naver?&where=news&query=%EC%A0%9C%EC%A3%BC%EB%8F%84%EA%B4%80%EA%B4%91&sort=0&field=1&ds=2020.01.01&de=2020.01.30&nso=so:r,p:from20200101to20200130&start=1\n",
      "making url https://search.naver.com/search.naver?&where=news&query=%EC%A0%9C%EC%A3%BC%EB%8F%84%EA%B4%80%EA%B4%91&sort=0&field=1&ds=2020.01.01&de=2020.01.30&nso=so:r,p:from20200101to20200130&start=11\n",
      "making url https://search.naver.com/search.naver?&where=news&query=%EC%A0%9C%EC%A3%BC%EB%8F%84%EA%B4%80%EA%B4%91&sort=0&field=1&ds=2020.01.01&de=2020.01.30&nso=so:r,p:from20200101to20200130&start=21\n",
      "making url https://search.naver.com/search.naver?&where=news&query=%EC%A0%9C%EC%A3%BC%EB%8F%84%EA%B4%80%EA%B4%91&sort=0&field=1&ds=2020.01.01&de=2020.01.30&nso=so:r,p:from20200101to20200130&start=31\n",
      "making url https://search.naver.com/search.naver?&where=news&query=%EC%A0%9C%EC%A3%BC%EB%8F%84%EA%B4%80%EA%B4%91&sort=0&field=1&ds=2020.01.01&de=2020.01.30&nso=so:r,p:from20200101to20200130&start=41\n",
      "(WARNING!) no results found\n",
      "out of max index\n",
      "2020.01.01_complete!\n",
      "making url https://search.naver.com/search.naver?&where=news&query=%EC%A0%9C%EC%A3%BC%EB%8F%84%EA%B4%80%EA%B4%91&sort=0&field=1&ds=2020.02.01&de=2020.02.30&nso=so:r,p:from20200201to20200230&start=1\n",
      "making url https://search.naver.com/search.naver?&where=news&query=%EC%A0%9C%EC%A3%BC%EB%8F%84%EA%B4%80%EA%B4%91&sort=0&field=1&ds=2020.02.01&de=2020.02.30&nso=so:r,p:from20200201to20200230&start=11\n",
      "making url https://search.naver.com/search.naver?&where=news&query=%EC%A0%9C%EC%A3%BC%EB%8F%84%EA%B4%80%EA%B4%91&sort=0&field=1&ds=2020.02.01&de=2020.02.30&nso=so:r,p:from20200201to20200230&start=21\n",
      "making url https://search.naver.com/search.naver?&where=news&query=%EC%A0%9C%EC%A3%BC%EB%8F%84%EA%B4%80%EA%B4%91&sort=0&field=1&ds=2020.02.01&de=2020.02.30&nso=so:r,p:from20200201to20200230&start=31\n",
      "(WARNING!) no results found\n",
      "out of max index\n",
      "2020.02.01_complete!\n",
      "making url https://search.naver.com/search.naver?&where=news&query=%EC%A0%9C%EC%A3%BC%EB%8F%84%EA%B4%80%EA%B4%91&sort=0&field=1&ds=2020.03.01&de=2020.03.30&nso=so:r,p:from20200301to20200330&start=1\n",
      "making url https://search.naver.com/search.naver?&where=news&query=%EC%A0%9C%EC%A3%BC%EB%8F%84%EA%B4%80%EA%B4%91&sort=0&field=1&ds=2020.03.01&de=2020.03.30&nso=so:r,p:from20200301to20200330&start=11\n",
      "making url https://search.naver.com/search.naver?&where=news&query=%EC%A0%9C%EC%A3%BC%EB%8F%84%EA%B4%80%EA%B4%91&sort=0&field=1&ds=2020.03.01&de=2020.03.30&nso=so:r,p:from20200301to20200330&start=21\n",
      "(WARNING!) no results found\n",
      "out of max index\n",
      "2020.03.01_complete!\n",
      "making url https://search.naver.com/search.naver?&where=news&query=%EC%A0%9C%EC%A3%BC%EB%8F%84%EA%B4%80%EA%B4%91&sort=0&field=1&ds=2020.04.01&de=2020.04.30&nso=so:r,p:from20200401to20200430&start=1\n",
      "making url https://search.naver.com/search.naver?&where=news&query=%EC%A0%9C%EC%A3%BC%EB%8F%84%EA%B4%80%EA%B4%91&sort=0&field=1&ds=2020.04.01&de=2020.04.30&nso=so:r,p:from20200401to20200430&start=11\n",
      "making url https://search.naver.com/search.naver?&where=news&query=%EC%A0%9C%EC%A3%BC%EB%8F%84%EA%B4%80%EA%B4%91&sort=0&field=1&ds=2020.04.01&de=2020.04.30&nso=so:r,p:from20200401to20200430&start=21\n",
      "making url https://search.naver.com/search.naver?&where=news&query=%EC%A0%9C%EC%A3%BC%EB%8F%84%EA%B4%80%EA%B4%91&sort=0&field=1&ds=2020.04.01&de=2020.04.30&nso=so:r,p:from20200401to20200430&start=31\n",
      "making url https://search.naver.com/search.naver?&where=news&query=%EC%A0%9C%EC%A3%BC%EB%8F%84%EA%B4%80%EA%B4%91&sort=0&field=1&ds=2020.04.01&de=2020.04.30&nso=so:r,p:from20200401to20200430&start=41\n",
      "making url https://search.naver.com/search.naver?&where=news&query=%EC%A0%9C%EC%A3%BC%EB%8F%84%EA%B4%80%EA%B4%91&sort=0&field=1&ds=2020.04.01&de=2020.04.30&nso=so:r,p:from20200401to20200430&start=51\n",
      "(WARNING!) no results found\n",
      "out of max index\n",
      "2020.04.01_complete!\n",
      "making url https://search.naver.com/search.naver?&where=news&query=%EC%A0%9C%EC%A3%BC%EB%8F%84%EA%B4%80%EA%B4%91&sort=0&field=1&ds=2020.05.01&de=2020.05.30&nso=so:r,p:from20200501to20200530&start=1\n",
      "making url https://search.naver.com/search.naver?&where=news&query=%EC%A0%9C%EC%A3%BC%EB%8F%84%EA%B4%80%EA%B4%91&sort=0&field=1&ds=2020.05.01&de=2020.05.30&nso=so:r,p:from20200501to20200530&start=11\n",
      "making url https://search.naver.com/search.naver?&where=news&query=%EC%A0%9C%EC%A3%BC%EB%8F%84%EA%B4%80%EA%B4%91&sort=0&field=1&ds=2020.05.01&de=2020.05.30&nso=so:r,p:from20200501to20200530&start=21\n",
      "making url https://search.naver.com/search.naver?&where=news&query=%EC%A0%9C%EC%A3%BC%EB%8F%84%EA%B4%80%EA%B4%91&sort=0&field=1&ds=2020.05.01&de=2020.05.30&nso=so:r,p:from20200501to20200530&start=31\n",
      "(WARNING!) no results found\n",
      "out of max index\n",
      "2020.05.01_complete!\n",
      "making url https://search.naver.com/search.naver?&where=news&query=%EC%A0%9C%EC%A3%BC%EB%8F%84%EA%B4%80%EA%B4%91&sort=0&field=1&ds=2020.06.01&de=2020.06.30&nso=so:r,p:from20200601to20200630&start=1\n",
      "making url https://search.naver.com/search.naver?&where=news&query=%EC%A0%9C%EC%A3%BC%EB%8F%84%EA%B4%80%EA%B4%91&sort=0&field=1&ds=2020.06.01&de=2020.06.30&nso=so:r,p:from20200601to20200630&start=11\n",
      "making url https://search.naver.com/search.naver?&where=news&query=%EC%A0%9C%EC%A3%BC%EB%8F%84%EA%B4%80%EA%B4%91&sort=0&field=1&ds=2020.06.01&de=2020.06.30&nso=so:r,p:from20200601to20200630&start=21\n",
      "making url https://search.naver.com/search.naver?&where=news&query=%EC%A0%9C%EC%A3%BC%EB%8F%84%EA%B4%80%EA%B4%91&sort=0&field=1&ds=2020.06.01&de=2020.06.30&nso=so:r,p:from20200601to20200630&start=31\n",
      "(WARNING!) no results found\n",
      "out of max index\n",
      "2020.06.01_complete!\n",
      "making url https://search.naver.com/search.naver?&where=news&query=%EC%A0%9C%EC%A3%BC%EB%8F%84%EA%B4%80%EA%B4%91&sort=0&field=1&ds=2020.07.01&de=2020.07.30&nso=so:r,p:from20200701to20200730&start=1\n",
      "making url https://search.naver.com/search.naver?&where=news&query=%EC%A0%9C%EC%A3%BC%EB%8F%84%EA%B4%80%EA%B4%91&sort=0&field=1&ds=2020.07.01&de=2020.07.30&nso=so:r,p:from20200701to20200730&start=11\n",
      "making url https://search.naver.com/search.naver?&where=news&query=%EC%A0%9C%EC%A3%BC%EB%8F%84%EA%B4%80%EA%B4%91&sort=0&field=1&ds=2020.07.01&de=2020.07.30&nso=so:r,p:from20200701to20200730&start=21\n",
      "making url https://search.naver.com/search.naver?&where=news&query=%EC%A0%9C%EC%A3%BC%EB%8F%84%EA%B4%80%EA%B4%91&sort=0&field=1&ds=2020.07.01&de=2020.07.30&nso=so:r,p:from20200701to20200730&start=31\n",
      "making url https://search.naver.com/search.naver?&where=news&query=%EC%A0%9C%EC%A3%BC%EB%8F%84%EA%B4%80%EA%B4%91&sort=0&field=1&ds=2020.07.01&de=2020.07.30&nso=so:r,p:from20200701to20200730&start=41\n",
      "(WARNING!) no results found\n",
      "out of max index\n",
      "2020.07.01_complete!\n",
      "making url https://search.naver.com/search.naver?&where=news&query=%EC%A0%9C%EC%A3%BC%EB%8F%84%EA%B4%80%EA%B4%91&sort=0&field=1&ds=2020.08.01&de=2020.08.30&nso=so:r,p:from20200801to20200830&start=1\n",
      "making url https://search.naver.com/search.naver?&where=news&query=%EC%A0%9C%EC%A3%BC%EB%8F%84%EA%B4%80%EA%B4%91&sort=0&field=1&ds=2020.08.01&de=2020.08.30&nso=so:r,p:from20200801to20200830&start=11\n",
      "making url https://search.naver.com/search.naver?&where=news&query=%EC%A0%9C%EC%A3%BC%EB%8F%84%EA%B4%80%EA%B4%91&sort=0&field=1&ds=2020.08.01&de=2020.08.30&nso=so:r,p:from20200801to20200830&start=21\n",
      "making url https://search.naver.com/search.naver?&where=news&query=%EC%A0%9C%EC%A3%BC%EB%8F%84%EA%B4%80%EA%B4%91&sort=0&field=1&ds=2020.08.01&de=2020.08.30&nso=so:r,p:from20200801to20200830&start=31\n",
      "(WARNING!) no results found\n",
      "out of max index\n",
      "2020.08.01_complete!\n",
      "making url https://search.naver.com/search.naver?&where=news&query=%EC%A0%9C%EC%A3%BC%EB%8F%84%EA%B4%80%EA%B4%91&sort=0&field=1&ds=2020.09.01&de=2020.09.30&nso=so:r,p:from20200901to20200930&start=1\n",
      "making url https://search.naver.com/search.naver?&where=news&query=%EC%A0%9C%EC%A3%BC%EB%8F%84%EA%B4%80%EA%B4%91&sort=0&field=1&ds=2020.09.01&de=2020.09.30&nso=so:r,p:from20200901to20200930&start=11\n",
      "making url https://search.naver.com/search.naver?&where=news&query=%EC%A0%9C%EC%A3%BC%EB%8F%84%EA%B4%80%EA%B4%91&sort=0&field=1&ds=2020.09.01&de=2020.09.30&nso=so:r,p:from20200901to20200930&start=21\n",
      "making url https://search.naver.com/search.naver?&where=news&query=%EC%A0%9C%EC%A3%BC%EB%8F%84%EA%B4%80%EA%B4%91&sort=0&field=1&ds=2020.09.01&de=2020.09.30&nso=so:r,p:from20200901to20200930&start=31\n"
     ]
    },
    {
     "name": "stdout",
     "output_type": "stream",
     "text": [
      "(WARNING!) no results found\n",
      "out of max index\n",
      "2020.09.01_complete!\n",
      "making url https://search.naver.com/search.naver?&where=news&query=%EC%A0%9C%EC%A3%BC%EB%8F%84%EA%B4%80%EA%B4%91&sort=0&field=1&ds=2020.10.01&de=2020.10.30&nso=so:r,p:from20201001to20201030&start=1\n",
      "making url https://search.naver.com/search.naver?&where=news&query=%EC%A0%9C%EC%A3%BC%EB%8F%84%EA%B4%80%EA%B4%91&sort=0&field=1&ds=2020.10.01&de=2020.10.30&nso=so:r,p:from20201001to20201030&start=11\n",
      "making url https://search.naver.com/search.naver?&where=news&query=%EC%A0%9C%EC%A3%BC%EB%8F%84%EA%B4%80%EA%B4%91&sort=0&field=1&ds=2020.10.01&de=2020.10.30&nso=so:r,p:from20201001to20201030&start=21\n",
      "making url https://search.naver.com/search.naver?&where=news&query=%EC%A0%9C%EC%A3%BC%EB%8F%84%EA%B4%80%EA%B4%91&sort=0&field=1&ds=2020.10.01&de=2020.10.30&nso=so:r,p:from20201001to20201030&start=31\n",
      "(WARNING!) no results found\n",
      "out of max index\n",
      "2020.10.01_complete!\n",
      "making url https://search.naver.com/search.naver?&where=news&query=%EC%A0%9C%EC%A3%BC%EB%8F%84%EA%B4%80%EA%B4%91&sort=0&field=1&ds=2020.11.01&de=2020.11.30&nso=so:r,p:from20201101to20201130&start=1\n",
      "making url https://search.naver.com/search.naver?&where=news&query=%EC%A0%9C%EC%A3%BC%EB%8F%84%EA%B4%80%EA%B4%91&sort=0&field=1&ds=2020.11.01&de=2020.11.30&nso=so:r,p:from20201101to20201130&start=11\n",
      "making url https://search.naver.com/search.naver?&where=news&query=%EC%A0%9C%EC%A3%BC%EB%8F%84%EA%B4%80%EA%B4%91&sort=0&field=1&ds=2020.11.01&de=2020.11.30&nso=so:r,p:from20201101to20201130&start=21\n",
      "making url https://search.naver.com/search.naver?&where=news&query=%EC%A0%9C%EC%A3%BC%EB%8F%84%EA%B4%80%EA%B4%91&sort=0&field=1&ds=2020.11.01&de=2020.11.30&nso=so:r,p:from20201101to20201130&start=31\n",
      "(WARNING!) no results found\n",
      "out of max index\n",
      "2020.11.01_complete!\n",
      "making url https://search.naver.com/search.naver?&where=news&query=%EC%A0%9C%EC%A3%BC%EB%8F%84%EA%B4%80%EA%B4%91&sort=0&field=1&ds=2020.12.01&de=2020.12.30&nso=so:r,p:from20201201to20201230&start=1\n",
      "making url https://search.naver.com/search.naver?&where=news&query=%EC%A0%9C%EC%A3%BC%EB%8F%84%EA%B4%80%EA%B4%91&sort=0&field=1&ds=2020.12.01&de=2020.12.30&nso=so:r,p:from20201201to20201230&start=11\n",
      "making url https://search.naver.com/search.naver?&where=news&query=%EC%A0%9C%EC%A3%BC%EB%8F%84%EA%B4%80%EA%B4%91&sort=0&field=1&ds=2020.12.01&de=2020.12.30&nso=so:r,p:from20201201to20201230&start=21\n",
      "making url https://search.naver.com/search.naver?&where=news&query=%EC%A0%9C%EC%A3%BC%EB%8F%84%EA%B4%80%EA%B4%91&sort=0&field=1&ds=2020.12.01&de=2020.12.30&nso=so:r,p:from20201201to20201230&start=31\n",
      "(WARNING!) no results found\n",
      "out of max index\n",
      "2020.12.01_complete!\n",
      "making url https://search.naver.com/search.naver?&where=news&query=%EC%A0%9C%EC%A3%BC%EB%8F%84%EA%B4%80%EA%B4%91&sort=0&field=1&ds=2021.01.01&de=2021.01.30&nso=so:r,p:from20210101to20210130&start=1\n",
      "making url https://search.naver.com/search.naver?&where=news&query=%EC%A0%9C%EC%A3%BC%EB%8F%84%EA%B4%80%EA%B4%91&sort=0&field=1&ds=2021.01.01&de=2021.01.30&nso=so:r,p:from20210101to20210130&start=11\n",
      "making url https://search.naver.com/search.naver?&where=news&query=%EC%A0%9C%EC%A3%BC%EB%8F%84%EA%B4%80%EA%B4%91&sort=0&field=1&ds=2021.01.01&de=2021.01.30&nso=so:r,p:from20210101to20210130&start=21\n",
      "(WARNING!) no results found\n",
      "out of max index\n",
      "2021.01.01_complete!\n",
      "making url https://search.naver.com/search.naver?&where=news&query=%EC%A0%9C%EC%A3%BC%EB%8F%84%EA%B4%80%EA%B4%91&sort=0&field=1&ds=2021.02.01&de=2021.02.30&nso=so:r,p:from20210201to20210230&start=1\n",
      "making url https://search.naver.com/search.naver?&where=news&query=%EC%A0%9C%EC%A3%BC%EB%8F%84%EA%B4%80%EA%B4%91&sort=0&field=1&ds=2021.02.01&de=2021.02.30&nso=so:r,p:from20210201to20210230&start=11\n",
      "making url https://search.naver.com/search.naver?&where=news&query=%EC%A0%9C%EC%A3%BC%EB%8F%84%EA%B4%80%EA%B4%91&sort=0&field=1&ds=2021.02.01&de=2021.02.30&nso=so:r,p:from20210201to20210230&start=21\n",
      "(WARNING!) no results found\n",
      "out of max index\n",
      "2021.02.01_complete!\n",
      "making url https://search.naver.com/search.naver?&where=news&query=%EC%A0%9C%EC%A3%BC%EB%8F%84%EA%B4%80%EA%B4%91&sort=0&field=1&ds=2021.03.01&de=2021.03.30&nso=so:r,p:from20210301to20210330&start=1\n",
      "making url https://search.naver.com/search.naver?&where=news&query=%EC%A0%9C%EC%A3%BC%EB%8F%84%EA%B4%80%EA%B4%91&sort=0&field=1&ds=2021.03.01&de=2021.03.30&nso=so:r,p:from20210301to20210330&start=11\n",
      "making url https://search.naver.com/search.naver?&where=news&query=%EC%A0%9C%EC%A3%BC%EB%8F%84%EA%B4%80%EA%B4%91&sort=0&field=1&ds=2021.03.01&de=2021.03.30&nso=so:r,p:from20210301to20210330&start=21\n",
      "(WARNING!) no results found\n",
      "out of max index\n",
      "2021.03.01_complete!\n",
      "making url https://search.naver.com/search.naver?&where=news&query=%EC%A0%9C%EC%A3%BC%EB%8F%84%EA%B4%80%EA%B4%91&sort=0&field=1&ds=2021.04.01&de=2021.04.30&nso=so:r,p:from20210401to20210430&start=1\n",
      "making url https://search.naver.com/search.naver?&where=news&query=%EC%A0%9C%EC%A3%BC%EB%8F%84%EA%B4%80%EA%B4%91&sort=0&field=1&ds=2021.04.01&de=2021.04.30&nso=so:r,p:from20210401to20210430&start=11\n",
      "making url https://search.naver.com/search.naver?&where=news&query=%EC%A0%9C%EC%A3%BC%EB%8F%84%EA%B4%80%EA%B4%91&sort=0&field=1&ds=2021.04.01&de=2021.04.30&nso=so:r,p:from20210401to20210430&start=21\n",
      "making url https://search.naver.com/search.naver?&where=news&query=%EC%A0%9C%EC%A3%BC%EB%8F%84%EA%B4%80%EA%B4%91&sort=0&field=1&ds=2021.04.01&de=2021.04.30&nso=so:r,p:from20210401to20210430&start=31\n",
      "(WARNING!) no results found\n",
      "out of max index\n",
      "2021.04.01_complete!\n",
      "making url https://search.naver.com/search.naver?&where=news&query=%EC%A0%9C%EC%A3%BC%EB%8F%84%EA%B4%80%EA%B4%91&sort=0&field=1&ds=2021.05.01&de=2021.05.30&nso=so:r,p:from20210501to20210530&start=1\n",
      "making url https://search.naver.com/search.naver?&where=news&query=%EC%A0%9C%EC%A3%BC%EB%8F%84%EA%B4%80%EA%B4%91&sort=0&field=1&ds=2021.05.01&de=2021.05.30&nso=so:r,p:from20210501to20210530&start=11\n",
      "making url https://search.naver.com/search.naver?&where=news&query=%EC%A0%9C%EC%A3%BC%EB%8F%84%EA%B4%80%EA%B4%91&sort=0&field=1&ds=2021.05.01&de=2021.05.30&nso=so:r,p:from20210501to20210530&start=21\n",
      "(WARNING!) no results found\n",
      "out of max index\n",
      "2021.05.01_complete!\n",
      "making url https://search.naver.com/search.naver?&where=news&query=%EC%A0%9C%EC%A3%BC%EB%8F%84%EA%B4%80%EA%B4%91&sort=0&field=1&ds=2021.06.01&de=2021.06.30&nso=so:r,p:from20210601to20210630&start=1\n",
      "making url https://search.naver.com/search.naver?&where=news&query=%EC%A0%9C%EC%A3%BC%EB%8F%84%EA%B4%80%EA%B4%91&sort=0&field=1&ds=2021.06.01&de=2021.06.30&nso=so:r,p:from20210601to20210630&start=11\n",
      "making url https://search.naver.com/search.naver?&where=news&query=%EC%A0%9C%EC%A3%BC%EB%8F%84%EA%B4%80%EA%B4%91&sort=0&field=1&ds=2021.06.01&de=2021.06.30&nso=so:r,p:from20210601to20210630&start=21\n",
      "making url https://search.naver.com/search.naver?&where=news&query=%EC%A0%9C%EC%A3%BC%EB%8F%84%EA%B4%80%EA%B4%91&sort=0&field=1&ds=2021.06.01&de=2021.06.30&nso=so:r,p:from20210601to20210630&start=31\n",
      "(WARNING!) no results found\n",
      "out of max index\n",
      "2021.06.01_complete!\n",
      "making url https://search.naver.com/search.naver?&where=news&query=%EC%A0%9C%EC%A3%BC%EB%8F%84%EA%B4%80%EA%B4%91&sort=0&field=1&ds=2021.07.01&de=2021.07.30&nso=so:r,p:from20210701to20210730&start=1\n",
      "making url https://search.naver.com/search.naver?&where=news&query=%EC%A0%9C%EC%A3%BC%EB%8F%84%EA%B4%80%EA%B4%91&sort=0&field=1&ds=2021.07.01&de=2021.07.30&nso=so:r,p:from20210701to20210730&start=11\n",
      "making url https://search.naver.com/search.naver?&where=news&query=%EC%A0%9C%EC%A3%BC%EB%8F%84%EA%B4%80%EA%B4%91&sort=0&field=1&ds=2021.07.01&de=2021.07.30&nso=so:r,p:from20210701to20210730&start=21\n",
      "making url https://search.naver.com/search.naver?&where=news&query=%EC%A0%9C%EC%A3%BC%EB%8F%84%EA%B4%80%EA%B4%91&sort=0&field=1&ds=2021.07.01&de=2021.07.30&nso=so:r,p:from20210701to20210730&start=31\n",
      "(WARNING!) no results found\n",
      "out of max index\n",
      "2021.07.01_complete!\n",
      "making url https://search.naver.com/search.naver?&where=news&query=%EC%A0%9C%EC%A3%BC%EB%8F%84%EA%B4%80%EA%B4%91&sort=0&field=1&ds=2021.08.01&de=2021.08.30&nso=so:r,p:from20210801to20210830&start=1\n",
      "making url https://search.naver.com/search.naver?&where=news&query=%EC%A0%9C%EC%A3%BC%EB%8F%84%EA%B4%80%EA%B4%91&sort=0&field=1&ds=2021.08.01&de=2021.08.30&nso=so:r,p:from20210801to20210830&start=11\n"
     ]
    },
    {
     "name": "stdout",
     "output_type": "stream",
     "text": [
      "making url https://search.naver.com/search.naver?&where=news&query=%EC%A0%9C%EC%A3%BC%EB%8F%84%EA%B4%80%EA%B4%91&sort=0&field=1&ds=2021.08.01&de=2021.08.30&nso=so:r,p:from20210801to20210830&start=21\n",
      "(WARNING!) no results found\n",
      "out of max index\n",
      "2021.08.01_complete!\n",
      "making url https://search.naver.com/search.naver?&where=news&query=%EC%A0%9C%EC%A3%BC%EB%8F%84%EA%B4%80%EA%B4%91&sort=0&field=1&ds=2021.09.01&de=2021.09.30&nso=so:r,p:from20210901to20210930&start=1\n",
      "making url https://search.naver.com/search.naver?&where=news&query=%EC%A0%9C%EC%A3%BC%EB%8F%84%EA%B4%80%EA%B4%91&sort=0&field=1&ds=2021.09.01&de=2021.09.30&nso=so:r,p:from20210901to20210930&start=11\n",
      "(WARNING!) no results found\n",
      "out of max index\n",
      "2021.09.01_complete!\n",
      "making url https://search.naver.com/search.naver?&where=news&query=%EC%A0%9C%EC%A3%BC%EB%8F%84%EA%B4%80%EA%B4%91&sort=0&field=1&ds=2021.10.01&de=2021.10.30&nso=so:r,p:from20211001to20211030&start=1\n",
      "making url https://search.naver.com/search.naver?&where=news&query=%EC%A0%9C%EC%A3%BC%EB%8F%84%EA%B4%80%EA%B4%91&sort=0&field=1&ds=2021.10.01&de=2021.10.30&nso=so:r,p:from20211001to20211030&start=11\n",
      "making url https://search.naver.com/search.naver?&where=news&query=%EC%A0%9C%EC%A3%BC%EB%8F%84%EA%B4%80%EA%B4%91&sort=0&field=1&ds=2021.10.01&de=2021.10.30&nso=so:r,p:from20211001to20211030&start=21\n",
      "(WARNING!) no results found\n",
      "out of max index\n",
      "2021.10.01_complete!\n",
      "making url https://search.naver.com/search.naver?&where=news&query=%EC%A0%9C%EC%A3%BC%EB%8F%84%EA%B4%80%EA%B4%91&sort=0&field=1&ds=2021.11.01&de=2021.11.30&nso=so:r,p:from20211101to20211130&start=1\n",
      "making url https://search.naver.com/search.naver?&where=news&query=%EC%A0%9C%EC%A3%BC%EB%8F%84%EA%B4%80%EA%B4%91&sort=0&field=1&ds=2021.11.01&de=2021.11.30&nso=so:r,p:from20211101to20211130&start=11\n",
      "making url https://search.naver.com/search.naver?&where=news&query=%EC%A0%9C%EC%A3%BC%EB%8F%84%EA%B4%80%EA%B4%91&sort=0&field=1&ds=2021.11.01&de=2021.11.30&nso=so:r,p:from20211101to20211130&start=21\n",
      "making url https://search.naver.com/search.naver?&where=news&query=%EC%A0%9C%EC%A3%BC%EB%8F%84%EA%B4%80%EA%B4%91&sort=0&field=1&ds=2021.11.01&de=2021.11.30&nso=so:r,p:from20211101to20211130&start=31\n",
      "(WARNING!) no results found\n",
      "out of max index\n",
      "2021.11.01_complete!\n",
      "making url https://search.naver.com/search.naver?&where=news&query=%EC%A0%9C%EC%A3%BC%EB%8F%84%EA%B4%80%EA%B4%91&sort=0&field=1&ds=2021.12.01&de=2021.12.30&nso=so:r,p:from20211201to20211230&start=1\n",
      "making url https://search.naver.com/search.naver?&where=news&query=%EC%A0%9C%EC%A3%BC%EB%8F%84%EA%B4%80%EA%B4%91&sort=0&field=1&ds=2021.12.01&de=2021.12.30&nso=so:r,p:from20211201to20211230&start=11\n",
      "(WARNING!) no results found\n",
      "out of max index\n",
      "2021.12.01_complete!\n"
     ]
    }
   ],
   "source": [
    "saving_data(2020, 2021)"
   ]
  }
 ],
 "metadata": {
  "kernelspec": {
   "display_name": "Python 3 (ipykernel)",
   "language": "python",
   "name": "python3"
  },
  "language_info": {
   "codemirror_mode": {
    "name": "ipython",
    "version": 3
   },
   "file_extension": ".py",
   "mimetype": "text/x-python",
   "name": "python",
   "nbconvert_exporter": "python",
   "pygments_lexer": "ipython3",
   "version": "3.10.6"
  }
 },
 "nbformat": 4,
 "nbformat_minor": 5
}
